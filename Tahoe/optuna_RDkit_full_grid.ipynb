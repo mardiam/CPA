{
 "cells": [
  {
   "cell_type": "code",
   "execution_count": 2,
   "id": "43e47cd2",
   "metadata": {},
   "outputs": [],
   "source": [
    "import optuna"
   ]
  },
  {
   "cell_type": "code",
   "execution_count": 3,
   "id": "b05b3667",
   "metadata": {},
   "outputs": [
    {
     "name": "stderr",
     "output_type": "stream",
     "text": [
      "Global seed set to 0\n"
     ]
    }
   ],
   "source": [
    "import cpa"
   ]
  },
  {
   "cell_type": "code",
   "execution_count": null,
   "id": "4f4966a6",
   "metadata": {},
   "outputs": [],
   "source": [
    "\n",
    "from rdkit import Chem\n",
    "import scanpy as sc\n",
    "from pandas import CategoricalDtype\n",
    "\n",
    "import numpy as np\n",
    "import pandas as pd\n",
    "import anndata\n",
    "import matplotlib.pyplot as plt\n",
    "import seaborn as sns\n",
    "from sklearn.metrics import mean_squared_error, r2_score\n",
    "from scipy.stats import pearsonr\n",
    "from scipy.sparse import issparse\n",
    "from matplotlib.gridspec import GridSpec\n",
    "from optuna.samplers import GridSampler\n",
    "import itertools\n",
    "\n",
    "import scipy.sparse as sparse\n",
    "from scipy.spatial.distance import cdist\n",
    "from tqdm import tqdm"
   ]
  },
  {
   "cell_type": "code",
   "execution_count": null,
   "id": "867b5622",
   "metadata": {},
   "outputs": [],
   "source": [
    "\n",
    "adata = sc.read('./plate9_for_cpa_RDkit_training.h5ad') # loading the data \n",
    "\n",
    "adata.obs.rename(columns={\"label\": \"condition_ID\"}, inplace=True) # renaming the 'label' column to 'condition'\n"
   ]
  },
  {
   "cell_type": "code",
   "execution_count": 6,
   "id": "706fa598",
   "metadata": {},
   "outputs": [
    {
     "name": "stderr",
     "output_type": "stream",
     "text": [
      "100%|██████████| 17087/17087 [00:00<00:00, 55191.91it/s]\n",
      "100%|██████████| 17087/17087 [00:00<00:00, 1111012.33it/s]\n",
      "100%|██████████| 86/86 [00:00<00:00, 16631.78it/s]\n"
     ]
    },
    {
     "name": "stdout",
     "output_type": "stream",
     "text": [
      "\u001b[34mINFO    \u001b[0m Generating sequential column names                                                                        \n",
      "\u001b[34mINFO    \u001b[0m Generating sequential column names                                                                        \n",
      "\u001b[34mINFO    \u001b[0m Generating sequential column names                                                                        \n",
      "\u001b[34mINFO    \u001b[0m Generating sequential column names                                                                        \n"
     ]
    }
   ],
   "source": [
    "SEED = 42\n",
    "adata.obs[\"cell_type\"] = adata.obs[\"cell_line\"]\n",
    "cpa.CPA.setup_anndata(adata,\n",
    "                      perturbation_key='condition_ID', #defines perturbation conditions\n",
    "                      dosage_key='log_dose',           #for dose-dependent effects.\n",
    "                      control_group='DMSO_TF_00uM',\n",
    "                      batch_key=None,\n",
    "                      smiles_key='smiles_rdkit',       #to compute RDKit embeddings, which capture chemical structure.\n",
    "                      is_count_data=True,              #raw counts\n",
    "                      categorical_covariate_keys=['cell_line'], #CPA can model how cell type affects drug response.\n",
    "                      deg_uns_key='rank_genes_groups', #where CPA can find differential expression gene lists in .uns.\n",
    "                      deg_uns_cat_key='cov_drug_dose',               #cov_drug_dose on the groupby of DE \n",
    "                      max_comb_len=1,\n",
    "                     )\n"
   ]
  },
  {
   "cell_type": "code",
   "execution_count": null,
   "id": "72ff8411",
   "metadata": {},
   "outputs": [
    {
     "name": "stdout",
     "output_type": "stream",
     "text": [
      "split_1ct_MEC\n",
      "train    14687\n",
      "ood       1600\n",
      "valid      800\n",
      "Name: count, dtype: int64\n",
      "-> OOD conditions:\n",
      "['Almonertinib (mesylate)_50uM', 'Bisoprolol (hemifumarate)_50uM', 'Clofarabine_50uM', 'Cytarabine_50uM', 'Lucanthone_50uM', 'Rucaparib (phosphate)_50uM', 'Sivelestat (sodium tetrahydrate)_50uM', 'Tranilast_50uM']\n",
      "-> Done.\n"
     ]
    }
   ],
   "source": [
    "# Define Data Splits (split_1ct_MEC)\n",
    "np.random.seed(42)\n",
    "conds = adata.obs[\"condition_ID\"].unique().tolist()\n",
    "n_ood = max(1, int(0.1 * len(conds)))\n",
    "ood_conds = np.random.choice(conds, n_ood, replace=False)\n",
    "\n",
    "# initialize all as train\n",
    "adata.obs[\"split_1ct_MEC\"] = \"train\"\n",
    "# mark OOD drugs\n",
    "mask = adata.obs[\"condition_ID\"].isin(ood_conds)\n",
    "adata.obs.loc[mask, \"split_1ct_MEC\"] = \"ood\"\n",
    "\n",
    "# validation set\n",
    "val_conds = np.random.choice(\n",
    "    [c for c in conds if c not in ood_conds],\n",
    "    max(1, int(0.05 * len(conds))),\n",
    "    replace=False\n",
    ")\n",
    "mask_val = adata.obs[\"condition_ID\"].isin(val_conds)\n",
    "adata.obs.loc[mask_val, \"split_1ct_MEC\"] = \"valid\"\n",
    "\n",
    "print(adata.obs['split_1ct_MEC'].value_counts())\n",
    "\n",
    "# count of cells in each data split\n",
    "ood_conds = list(adata[adata.obs['split_1ct_MEC'] == 'ood'].obs['condition_ID'].value_counts().index)\n",
    "\n",
    "#all unique condition IDs from the OOD split,\n",
    "print(\"-> OOD conditions:\")\n",
    "print(ood_conds) \n",
    "\n",
    "# Tags each cell's condition as either an OOD condition or 'other'. \n",
    "adata.obs['condition_split'] = adata.obs['condition_ID'].apply(lambda x: x if x in ood_conds else 'other')\n",
    "\n",
    "\n",
    "\n",
    "#  rebuilt cov drug dose\n",
    "def build_cov_drug_dose(row):\n",
    "    cell = row[\"cell_line\"]\n",
    "    drug = row[\"drug_cleaned\"] \n",
    "    dose = float(row[\"dose\"])\n",
    "    return f\"{cell}_{drug}_{dose:.1f}\"\n",
    "\n",
    "\n",
    "adata.obs[\"cov_drug_dose\"] = adata.obs.apply(build_cov_drug_dose, axis=1)\n",
    "\n",
    "print(\"-> Done.\")\n",
    "\n"
   ]
  },
  {
   "cell_type": "code",
   "execution_count": null,
   "id": "af197547",
   "metadata": {},
   "outputs": [
    {
     "name": "stderr",
     "output_type": "stream",
     "text": [
      "\u001b[32m[I 2025-07-22 19:33:41,993]\u001b[0m A new study created in memory with name: no-name-db24d2f9-8b52-423d-92eb-719421629f63\u001b[0m\n"
     ]
    },
    {
     "name": "stdout",
     "output_type": "stream",
     "text": [
      "Total combinations: 108\n"
     ]
    },
    {
     "data": {
      "application/vnd.jupyter.widget-view+json": {
       "model_id": "c8af57dc53e94a169b21cc6d880bd19f",
       "version_major": 2,
       "version_minor": 0
      },
      "text/plain": [
       "  0%|          | 0/108 [00:00<?, ?it/s]"
      ]
     },
     "metadata": {},
     "output_type": "display_data"
    },
    {
     "name": "stderr",
     "output_type": "stream",
     "text": [
      "Global seed set to 6977\n"
     ]
    },
    {
     "name": "stdout",
     "output_type": "stream",
     "text": [
      "\n",
      "🔧 Trial 00 – lat64_enc512x3_do0.2_lr0.0001\n",
      "(86, 2048)\n"
     ]
    },
    {
     "name": "stderr",
     "output_type": "stream",
     "text": [
      "100%|██████████| 86/86 [00:00<00:00, 370.04it/s]\n",
      "GPU available: False, used: False\n",
      "TPU available: False, using: 0 TPU cores\n",
      "IPU available: False, using: 0 IPUs\n",
      "HPU available: False, using: 0 HPUs\n"
     ]
    },
    {
     "name": "stdout",
     "output_type": "stream",
     "text": [
      "Epoch 2/20:   5%|▌         | 1/20 [00:26<08:23, 26.52s/it, v_num=1, recon=373, r2_mean=0.21, adv_loss=4.49, acc_pert=0.0257]"
     ]
    },
    {
     "name": "stderr",
     "output_type": "stream",
     "text": [
      "\n",
      "Epoch 00001: cpa_metric reached. Module best state updated.\n"
     ]
    },
    {
     "name": "stdout",
     "output_type": "stream",
     "text": [
      "Epoch 4/20:  15%|█▌        | 3/20 [01:21<07:43, 27.26s/it, v_num=1, recon=294, r2_mean=0.342, adv_loss=4.32, acc_pert=0.0298, val_recon=295, disnt_basal=0.226, disnt_after=0.226, val_r2_mean=0.675, val_KL=nan]"
     ]
    },
    {
     "name": "stderr",
     "output_type": "stream",
     "text": [
      "\n",
      "Epoch 00003: cpa_metric reached. Module best state updated.\n"
     ]
    },
    {
     "name": "stdout",
     "output_type": "stream",
     "text": [
      "Epoch 6/20:  25%|██▌       | 5/20 [02:15<06:45, 27.06s/it, v_num=1, recon=286, r2_mean=0.363, adv_loss=4.24, acc_pert=0.0349, val_recon=285, disnt_basal=0.226, disnt_after=0.226, val_r2_mean=0.683, val_KL=nan]"
     ]
    },
    {
     "name": "stderr",
     "output_type": "stream",
     "text": [
      "\n",
      "Epoch 00005: cpa_metric reached. Module best state updated.\n"
     ]
    },
    {
     "name": "stdout",
     "output_type": "stream",
     "text": [
      "Epoch 8/20:  35%|███▌      | 7/20 [03:09<05:50, 26.92s/it, v_num=1, recon=282, r2_mean=0.375, adv_loss=4.19, acc_pert=0.0381, val_recon=281, disnt_basal=0.226, disnt_after=0.227, val_r2_mean=0.695, val_KL=nan]"
     ]
    },
    {
     "name": "stderr",
     "output_type": "stream",
     "text": [
      "\n",
      "Epoch 00007: cpa_metric reached. Module best state updated.\n"
     ]
    },
    {
     "name": "stdout",
     "output_type": "stream",
     "text": [
      "Epoch 10/20:  45%|████▌     | 9/20 [04:08<05:13, 28.53s/it, v_num=1, recon=279, r2_mean=0.385, adv_loss=4.15, acc_pert=0.0432, val_recon=277, disnt_basal=0.226, disnt_after=0.226, val_r2_mean=0.698, val_KL=nan]"
     ]
    },
    {
     "name": "stderr",
     "output_type": "stream",
     "text": [
      "\n",
      "Epoch 00009: cpa_metric reached. Module best state updated.\n"
     ]
    },
    {
     "name": "stdout",
     "output_type": "stream",
     "text": [
      "\n",
      "disnt_basal = 0.22527270507270508\n",
      "disnt_after = 0.22568827283827284\n",
      "val_r2_mean = 0.7028860199451447\n",
      "val_r2_var = 0.22657282173633575\n",
      "Epoch 12/20:  55%|█████▌    | 11/20 [05:04<04:14, 28.32s/it, v_num=1, recon=277, r2_mean=0.394, adv_loss=4.13, acc_pert=0.0445, val_recon=275, disnt_basal=0.225, disnt_after=0.226, val_r2_mean=0.703, val_KL=nan]"
     ]
    },
    {
     "name": "stderr",
     "output_type": "stream",
     "text": [
      "\n",
      "Epoch 00011: cpa_metric reached. Module best state updated.\n"
     ]
    },
    {
     "name": "stdout",
     "output_type": "stream",
     "text": [
      "Epoch 14/20:  65%|██████▌   | 13/20 [06:00<03:15, 27.94s/it, v_num=1, recon=274, r2_mean=0.399, adv_loss=4.11, acc_pert=0.0464, val_recon=273, disnt_basal=0.224, disnt_after=0.225, val_r2_mean=0.707, val_KL=nan]"
     ]
    },
    {
     "name": "stderr",
     "output_type": "stream",
     "text": [
      "\n",
      "Epoch 00013: cpa_metric reached. Module best state updated.\n"
     ]
    },
    {
     "name": "stdout",
     "output_type": "stream",
     "text": [
      "Epoch 16/20:  75%|███████▌  | 15/20 [06:58<02:23, 28.64s/it, v_num=1, recon=273, r2_mean=0.404, adv_loss=4.09, acc_pert=0.0509, val_recon=271, disnt_basal=0.226, disnt_after=0.226, val_r2_mean=0.711, val_KL=nan]"
     ]
    }
   ],
   "source": [
    "# Define Search Space for Hyperparameter Optimization ------------------------------------\n",
    " \n",
    "search_space = {\n",
    "    \"n_latent\": [64, 128, 256],\n",
    "    \"n_hidden_encoder\": [128, 256, 512],\n",
    "    \"n_layers_encoder\": [2, 3],\n",
    "    \"dropout_rate_encoder\": [0.05, 0.2, 0.3],\n",
    "    \"lr\": [1e-4, 3e-4],\n",
    "}\n",
    "sampler = GridSampler(search_space)\n",
    "\n",
    "#  Optuna Objective\n",
    "\n",
    "def objective(trial: optuna.trial.Trial) -> float:\n",
    "    # Sample hyperparameters\n",
    "    n_latent = trial.suggest_categorical(\"n_latent\", search_space[\"n_latent\"])\n",
    "    n_hidden_encoder = trial.suggest_categorical(\"n_hidden_encoder\", search_space[\"n_hidden_encoder\"])\n",
    "    n_layers_encoder = trial.suggest_categorical(\"n_layers_encoder\", search_space[\"n_layers_encoder\"])\n",
    "    dropout_rate_encoder = trial.suggest_categorical(\"dropout_rate_encoder\", search_space[\"dropout_rate_encoder\"])\n",
    "    lr = trial.suggest_categorical(\"lr\", search_space[\"lr\"])\n",
    "\n",
    "    label = f\"lat{n_latent}_enc{n_hidden_encoder}x{n_layers_encoder}_do{dropout_rate_encoder}_lr{lr}\"\n",
    "    print(f\"\\n🔧 Trial {trial.number:02d} – {label}\")\n",
    "\n",
    "    # Model parameters\n",
    "    model_params = dict(\n",
    "        n_latent=n_latent,\n",
    "        recon_loss=\"nb\",\n",
    "        doser_type=\"linear\",\n",
    "        n_hidden_encoder=n_hidden_encoder,\n",
    "        n_layers_encoder=n_layers_encoder,\n",
    "        n_hidden_decoder=128,\n",
    "        n_layers_decoder=2,\n",
    "        use_batch_norm_encoder=True,\n",
    "        use_layer_norm_encoder=False,\n",
    "        use_batch_norm_decoder=False,\n",
    "        use_layer_norm_decoder=True,\n",
    "        dropout_rate_encoder=dropout_rate_encoder,\n",
    "        dropout_rate_decoder=0.05,\n",
    "        variational=False,\n",
    "        seed=6977,\n",
    "    )\n",
    "\n",
    "    trainer_params = {\n",
    "        \"n_epochs_kl_warmup\": None,\n",
    "        \"n_epochs_pretrain_ae\": 30,\n",
    "        \"n_epochs_adv_warmup\": 50,\n",
    "        \"n_epochs_mixup_warmup\": 0,\n",
    "        \"mixup_alpha\": 0.0,\n",
    "        \"adv_steps\": None,\n",
    "        \"n_hidden_adv\": 64,\n",
    "        \"n_layers_adv\": 3,\n",
    "        \"use_batch_norm_adv\": True,\n",
    "        \"use_layer_norm_adv\": False,\n",
    "        \"dropout_rate_adv\": 0.3,\n",
    "        \"reg_adv\": 20.0,\n",
    "        \"pen_adv\": 5.0,\n",
    "        \"lr\": lr,\n",
    "        \"wd\": 4e-07,\n",
    "        \"adv_lr\": 0.0003,\n",
    "        \"adv_wd\": 4e-07,\n",
    "        \"adv_loss\": \"cce\",\n",
    "        \"doser_lr\": 0.0003,\n",
    "        \"doser_wd\": 4e-07,\n",
    "        \"do_clip_grad\": True,\n",
    "        \"gradient_clip_value\": 1.0,\n",
    "        \"step_size_lr\": 10,\n",
    "    }\n",
    "\n",
    "    try:\n",
    "        # Train CPA model\n",
    "        model = cpa.CPA(\n",
    "            adata,\n",
    "            split_key='split_1ct_MEC',\n",
    "            train_split='train',\n",
    "            valid_split='valid',\n",
    "            test_split='ood',\n",
    "            use_rdkit_embeddings=True,\n",
    "            **model_params,\n",
    "        )\n",
    "        model.train(\n",
    "            max_epochs=20,\n",
    "            use_gpu=False,\n",
    "            batch_size=32,\n",
    "            plan_kwargs=trainer_params,\n",
    "            early_stopping_patience=5,\n",
    "            check_val_every_n_epoch=2,\n",
    "        )\n",
    "\n",
    "        # Evaluate on OOD conditions\n",
    "        ood_conds = adata.obs.loc[adata.obs['split_1ct_MEC'] == 'ood', 'condition_ID'].unique()\n",
    "        detailed_results = []\n",
    "        for cond in ood_conds:\n",
    "            mask_ood = (adata.obs['condition_ID'] == cond) & (adata.obs['split_1ct_MEC'] == 'ood')\n",
    "            if mask_ood.sum() == 0:\n",
    "                continue\n",
    "\n",
    "            adata_ood = adata[mask_ood].copy()\n",
    "            if \"CPA_pred\" not in adata_ood.obsm:\n",
    "                model.predict(adata=adata_ood)\n",
    "\n",
    "            x_pred = adata_ood.obsm[\"CPA_pred\"]\n",
    "            x_true = adata_ood.layers[\"counts\"] if \"counts\" in adata_ood.layers else adata_ood.X\n",
    "            if hasattr(x_true, \"toarray\"):\n",
    "                x_true = x_true.toarray()\n",
    "            x_pred = np.log1p(x_pred)\n",
    "            x_true = np.log1p(x_true)\n",
    "\n",
    "            # Control\n",
    "            ctrl_mask = (adata.obs[\"cell_line\"] == adata_ood.obs[\"cell_line\"].unique()[0]) & \\\n",
    "                        (adata.obs[\"condition_ID\"] == \"DMSO_TF_00uM\")\n",
    "            adata_ctrl = adata[ctrl_mask].copy()\n",
    "            x_ctrl = adata_ctrl.layers[\"counts\"] if \"counts\" in adata_ctrl.layers else adata_ctrl.X\n",
    "            if hasattr(x_ctrl, \"toarray\"):\n",
    "                x_ctrl = x_ctrl.toarray()\n",
    "            x_ctrl = np.log1p(x_ctrl)\n",
    "\n",
    "            mean_true = x_true.mean(axis=0)\n",
    "            mean_pred = x_pred.mean(axis=0)\n",
    "            mean_ctrl = x_ctrl.mean(axis=0)\n",
    "\n",
    "            r2 = r2_score(mean_true, mean_pred)\n",
    "            rmse = np.sqrt(mean_squared_error(mean_true, mean_pred))\n",
    "\n",
    "            lfc_true = mean_true - mean_ctrl\n",
    "            lfc_pred = mean_pred - mean_ctrl\n",
    "            r2_lfc = r2_score(lfc_true, lfc_pred)\n",
    "            rmse_lfc = np.sqrt(mean_squared_error(lfc_true, lfc_pred))\n",
    "            pearson_corr, _ = pearsonr(mean_true, mean_pred)\n",
    "\n",
    "\n",
    "            detailed_results.append({\n",
    "                \"model\": label,\n",
    "                \"OOD_condition\": cond,\n",
    "                \"n_cells\": mask_ood.sum(),\n",
    "                \"R2\": r2,\n",
    "                \"RMSE\": rmse,\n",
    "                \"R2_LFC\": r2_lfc,\n",
    "                \"RMSE_LFC\": rmse_lfc,\n",
    "                \"Pearson\": pearson_corr,\n",
    "            })\n",
    "\n",
    "        # Aggregate metrics\n",
    "        r2_mean = np.mean([r[\"R2\"] for r in detailed_results])\n",
    "        rmse_mean = np.mean([r[\"RMSE\"] for r in detailed_results])\n",
    "        r2_lfc_mean = np.mean([r[\"R2_LFC\"] for r in detailed_results])\n",
    "        rmse_lfc_mean = np.mean([r[\"RMSE_LFC\"] for r in detailed_results])\n",
    "        pearson_mean = np.mean([r[\"Pearson\"] for r in detailed_results])\n",
    "\n",
    "\n",
    "        trial.set_user_attr(\"metrics\", {\n",
    "            \"model\": label,\n",
    "            \"R2_mean\": r2_mean,\n",
    "            \"RMSE_mean\": rmse_mean,\n",
    "            \"R2_LFC_mean\": r2_lfc_mean,\n",
    "            \"RMSE_LFC_mean\": rmse_lfc_mean,\n",
    "            \"Pearson_mean\": pearson_mean,\n",
    "\n",
    "        })\n",
    "        trial.set_user_attr(\"detailed\", detailed_results)\n",
    "\n",
    "        print(f\"[Trial {trial.number}] R2={r2_mean:.3f}, RMSE={rmse_mean:.3f}, R2_LFC={r2_lfc_mean:.3f}\")\n",
    "        return r2_lfc_mean\n",
    "\n",
    "    except Exception as e:\n",
    "        print(f\"⚠ Trial {trial.number} failed: {e}\")\n",
    "        return -np.inf\n",
    "\n",
    "# Compute Total Combinations\n",
    "\n",
    "n_combinations = len(list(itertools.product(\n",
    "    search_space[\"n_latent\"],\n",
    "    search_space[\"n_hidden_encoder\"],\n",
    "    search_space[\"n_layers_encoder\"],\n",
    "    search_space[\"dropout_rate_encoder\"],\n",
    "    search_space[\"lr\"]\n",
    ")))\n",
    "print(f\"Total combinations: {n_combinations}\")\n",
    "\n",
    "\n",
    "# Run the Optuna Study (Grid Search over Hyperparameters)\n",
    "\n",
    "study = optuna.create_study(direction=\"maximize\", sampler=sampler)\n",
    "study.optimize(objective, n_trials=n_combinations, show_progress_bar=True)\n",
    "\n",
    "\n",
    "# Save and Display Summary of Trial Metrics\n",
    "\n",
    "trial_metrics = [t.user_attrs[\"metrics\"] for t in study.trials if \"metrics\" in t.user_attrs]\n",
    "results_df = pd.DataFrame(trial_metrics)\n",
    "results_df = results_df.set_index(\"model\")\n",
    "results_df.to_csv(\"./RDkit_optuna_optimized_full_grid.tsv\", sep=\"\\t\", index=True)\n",
    "display(results_df.style.format(\"{:.3f}\"))\n",
    "print(\"✅ Summary saved to RDkit_optuna_optimized_full_grid.tsv\")\n",
    "\n",
    "# Save Detailed Trial Results (Per-Condition Metrics)\n",
    "detailed_all = [r for t in study.trials if \"detailed\" in t.user_attrs for r in t.user_attrs[\"detailed\"]]\n",
    "detailed_df = pd.DataFrame(detailed_all)\n",
    "detailed_df.to_csv(\"./RDkit_optuna_optimized_full_grid_detailed.tsv\", sep=\"\\t\", index=False)\n",
    "print(\"✅ Detailed results saved to RDkit_optuna_optimized_full_grid_detailed.tsv\")\n",
    "\n",
    "\n",
    "# Best Trial and hyperparameters\n",
    "\n",
    "print(\"\\n🏆 Best Trial:\")\n",
    "print(f\"  Number: {study.best_trial.number}\")\n",
    "print(f\"  Value (R2_LFC_mean): {study.best_trial.value:.3f}\")\n",
    "print(f\"  Params: {study.best_trial.params}\")"
   ]
  },
  {
   "cell_type": "code",
   "execution_count": null,
   "id": "67388fbd",
   "metadata": {},
   "outputs": [],
   "source": [
    "results_df.to_csv(\"./RDkit_optuna_optimized_full_grid.csv\", sep=\"\\t\", index=True) # Saving the results DataFrame to a TSV file for further analysis"
   ]
  },
  {
   "cell_type": "code",
   "execution_count": null,
   "id": "fbba5754",
   "metadata": {},
   "outputs": [],
   "source": [
    "results_df.to_csv(\"./RDkit_optuna_optimized_full_grid_detailed.csv\", sep=\"\\t\", index=True) # Saving the results DataFrame to a TSV file for further analysis"
   ]
  },
  {
   "cell_type": "code",
   "execution_count": null,
   "id": "8c2d9bde",
   "metadata": {},
   "outputs": [],
   "source": [
    "df = pd.read_csv(\"RDkit_optuna_optimized_full_grid.tsv\", sep=\"\\t\")"
   ]
  },
  {
   "cell_type": "markdown",
   "id": "e06860e6",
   "metadata": {},
   "source": [
    "## Vizualization of Model Performance Results"
   ]
  },
  {
   "cell_type": "markdown",
   "id": "d86afb55",
   "metadata": {},
   "source": [
    "### Bar plot for R²\n"
   ]
  },
  {
   "cell_type": "code",
   "execution_count": null,
   "id": "5a40c5e0",
   "metadata": {},
   "outputs": [],
   "source": [
    "df_sorted = df.sort_values(by=\"R2\", ascending=False)\n",
    "\n",
    "plt.figure(figsize=(12, 6))\n",
    "plt.barh(df_sorted[\"model\"], df_sorted[\"R2\"])\n",
    "plt.xlabel(\"R²\")\n",
    "plt.title(\"Model Performance - R² Score\")\n",
    "plt.tight_layout()\n",
    "plt.show()"
   ]
  },
  {
   "cell_type": "markdown",
   "id": "9ad8c5a4",
   "metadata": {},
   "source": [
    "### Bar plot for MSE"
   ]
  },
  {
   "cell_type": "code",
   "execution_count": null,
   "id": "4fd55626",
   "metadata": {},
   "outputs": [],
   "source": [
    "df_sorted = df.sort_values(by=\"MSE\", ascending=True)\n",
    "\n",
    "plt.figure(figsize=(12, 6))\n",
    "plt.barh(df_sorted[\"model\"], df_sorted[\"MSE\"])\n",
    "plt.xlabel(\"MSE\")\n",
    "plt.title(\"Model Performance - Mean Squared Error\")\n",
    "plt.tight_layout()\n",
    "plt.show()"
   ]
  },
  {
   "cell_type": "markdown",
   "id": "a214f46e",
   "metadata": {},
   "source": [
    "### Bar plot for Pearson correlation"
   ]
  },
  {
   "cell_type": "code",
   "execution_count": null,
   "id": "1d326580",
   "metadata": {},
   "outputs": [],
   "source": [
    "df_sorted = df.sort_values(by=\"Pearson\", ascending=False)\n",
    "\n",
    "plt.figure(figsize=(12, 6))\n",
    "plt.barh(df_sorted[\"model\"], df_sorted[\"Pearson\"])\n",
    "plt.xlabel(\"Pearson Correlation\")\n",
    "plt.title(\"Model Performance - Pearson\")\n",
    "plt.tight_layout()\n",
    "plt.show()"
   ]
  },
  {
   "cell_type": "markdown",
   "id": "d68ff116",
   "metadata": {},
   "source": [
    "###  Bar plot for KDE divergence"
   ]
  },
  {
   "cell_type": "code",
   "execution_count": null,
   "id": "73b76a0e",
   "metadata": {},
   "outputs": [],
   "source": [
    "df_sorted = df.sort_values(by=\"e_distance\", ascending=True)\n",
    "\n",
    "plt.figure(figsize=(12, 6))\n",
    "plt.barh(df_sorted[\"model\"], df_sorted[\"e_distance\"])\n",
    "plt.xlabel(\"E-distance\")\n",
    "plt.title(\"Model Performance - E-distance\")\n",
    "plt.tight_layout()\n",
    "plt.show()"
   ]
  },
  {
   "cell_type": "markdown",
   "id": "c479bdef",
   "metadata": {},
   "source": [
    "### Bar plot for Top-100 DEG Jaccard similarity"
   ]
  },
  {
   "cell_type": "code",
   "execution_count": null,
   "id": "cf38f20d",
   "metadata": {},
   "outputs": [],
   "source": [
    "df_sorted = df.sort_values(by=\"mv_kde\", ascending=True)\n",
    "\n",
    "plt.figure(figsize=(12, 6))\n",
    "plt.barh(df_sorted[\"model\"], df_sorted[\"mv_kde\"])\n",
    "plt.xlabel(\"Multivariate KDE distance\")\n",
    "plt.title(\"Model Performance - mv_kde\")\n",
    "plt.tight_layout()\n",
    "plt.show()"
   ]
  },
  {
   "cell_type": "code",
   "execution_count": null,
   "id": "9d18e9d4",
   "metadata": {},
   "outputs": [],
   "source": [
    "df_sorted = df.sort_values(by=\"jaccard_top100\", ascending=False)\n",
    "\n",
    "plt.figure(figsize=(12, 6))\n",
    "plt.barh(df_sorted[\"model\"], df_sorted[\"jaccard_top100\"])\n",
    "plt.xlabel(\"Jaccard Index (Top 100 DEGs)\")\n",
    "plt.title(\"Model Performance - DEG Overlap\")\n",
    "plt.tight_layout()\n",
    "plt.show()"
   ]
  }
 ],
 "metadata": {
  "kernelspec": {
   "display_name": "cpa",
   "language": "python",
   "name": "python3"
  },
  "language_info": {
   "codemirror_mode": {
    "name": "ipython",
    "version": 3
   },
   "file_extension": ".py",
   "mimetype": "text/x-python",
   "name": "python",
   "nbconvert_exporter": "python",
   "pygments_lexer": "ipython3",
   "version": "3.9.23"
  }
 },
 "nbformat": 4,
 "nbformat_minor": 5
}
